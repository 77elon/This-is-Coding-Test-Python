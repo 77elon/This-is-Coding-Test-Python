{
 "cells": [
  {
   "cell_type": "code",
   "execution_count": 1,
   "id": "b5a75b7d-fb4a-460c-8383-a69ccbb74da8",
   "metadata": {},
   "outputs": [
    {
     "name": "stdin",
     "output_type": "stream",
     "text": [
      " 5 8 3\n"
     ]
    }
   ],
   "source": [
    "n, m, k = map(int, input().split())"
   ]
  },
  {
   "cell_type": "code",
   "execution_count": 2,
   "id": "673ebc15-ddfe-4144-9a20-62cea101c704",
   "metadata": {},
   "outputs": [
    {
     "name": "stdin",
     "output_type": "stream",
     "text": [
      " 2 4 5 4 6\n"
     ]
    }
   ],
   "source": [
    "data = list(map(int, input().split()))"
   ]
  },
  {
   "cell_type": "code",
   "execution_count": 3,
   "id": "cfb16f30-ea36-4ae1-9828-5bc116cc6ffc",
   "metadata": {},
   "outputs": [],
   "source": [
    "data.sort(reverse=True)"
   ]
  },
  {
   "cell_type": "code",
   "execution_count": 4,
   "id": "f665c228-4fdc-4d13-a01f-6633206da29b",
   "metadata": {},
   "outputs": [],
   "source": [
    "result = 0"
   ]
  },
  {
   "cell_type": "code",
   "execution_count": null,
   "id": "c8493cc0-ae1c-4414-b0e8-d2dab687ffd4",
   "metadata": {},
   "outputs": [],
   "source": []
  },
  {
   "cell_type": "code",
   "execution_count": 5,
   "id": "7b654cb9-feda-4421-ad44-51ea281f97e7",
   "metadata": {},
   "outputs": [],
   "source": [
    "while True:\n",
    "    if m <= 0:\n",
    "        break\n",
    "    result += (data[0] * k)\n",
    "    m -= k\n",
    "    if m <= 0:\n",
    "        break\n",
    "    result += (data[1])\n",
    "    m -= 1"
   ]
  },
  {
   "cell_type": "code",
   "execution_count": 6,
   "id": "cb8f58f3-3b33-47b5-a75f-c587c52684ae",
   "metadata": {},
   "outputs": [
    {
     "name": "stdout",
     "output_type": "stream",
     "text": [
      "46\n"
     ]
    }
   ],
   "source": [
    "print(result)"
   ]
  },
  {
   "cell_type": "code",
   "execution_count": 7,
   "id": "ea6b11ad-35be-479c-a570-02516f92c476",
   "metadata": {},
   "outputs": [],
   "source": [
    "# 결국 가장 큰 수와 두번째로 큰 수의 조합으로 이루어진 수열이므로,,,\n",
    "# 항상 패턴을 분석하는 것이 좋겠다.\n",
    "\n",
    "# 아래 식이 복잡해보이지만 결국은 k(큰 수가 더해지는 횟수) * 수열의 반복 횟수를 아래의 식처럼 적은 것이다.\n",
    "bigger_count = int(m/(k+1)) * k\n",
    "bigger_count += m % (k+1)"
   ]
  },
  {
   "cell_type": "code",
   "execution_count": null,
   "id": "ee374701-655e-4859-aa8f-e4fcfbe0ad4c",
   "metadata": {},
   "outputs": [],
   "source": []
  },
  {
   "cell_type": "code",
   "execution_count": 8,
   "id": "6c2ceb28-10c1-4c1f-8ac7-7e10ea6495f8",
   "metadata": {},
   "outputs": [],
   "source": [
    "result = 0"
   ]
  },
  {
   "cell_type": "code",
   "execution_count": 9,
   "id": "0038a5d1-00dd-4a29-971f-1bfea5740d31",
   "metadata": {},
   "outputs": [],
   "source": [
    "result += (bigger_count) * data[0]\n",
    "result += (m - bigger_count) * data[1]"
   ]
  },
  {
   "cell_type": "code",
   "execution_count": 10,
   "id": "e53ce637-7690-4a5a-a82e-5dc8ccdd0347",
   "metadata": {},
   "outputs": [
    {
     "name": "stdout",
     "output_type": "stream",
     "text": [
      "0\n"
     ]
    }
   ],
   "source": [
    "print(result)"
   ]
  },
  {
   "cell_type": "code",
   "execution_count": null,
   "id": "7e86cbd7-3e07-4d0b-b5fb-487a1c5851be",
   "metadata": {},
   "outputs": [],
   "source": []
  }
 ],
 "metadata": {
  "kernelspec": {
   "display_name": "Python 3 (ipykernel)",
   "language": "python",
   "name": "python3"
  },
  "language_info": {
   "codemirror_mode": {
    "name": "ipython",
    "version": 3
   },
   "file_extension": ".py",
   "mimetype": "text/x-python",
   "name": "python",
   "nbconvert_exporter": "python",
   "pygments_lexer": "ipython3",
   "version": "3.10.5"
  },
  "widgets": {
   "application/vnd.jupyter.widget-state+json": {
    "state": {},
    "version_major": 2,
    "version_minor": 0
   }
  }
 },
 "nbformat": 4,
 "nbformat_minor": 5
}
