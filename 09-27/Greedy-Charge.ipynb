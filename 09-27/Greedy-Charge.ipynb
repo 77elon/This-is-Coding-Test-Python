{
 "cells": [
  {
   "cell_type": "code",
   "execution_count": 1,
   "id": "efdbc6a9-4b1e-43b0-b53d-789eca7e1060",
   "metadata": {},
   "outputs": [],
   "source": [
    "n = 1260\n",
    "charge = 0"
   ]
  },
  {
   "cell_type": "code",
   "execution_count": null,
   "id": "19be26a6-f68c-4065-a1d6-e261f698f572",
   "metadata": {},
   "outputs": [],
   "source": []
  },
  {
   "cell_type": "code",
   "execution_count": 2,
   "id": "2f2baa8f-0548-4dbe-96eb-c72677ba0c2f",
   "metadata": {},
   "outputs": [],
   "source": [
    "coin_types = [500, 100, 50, 10]"
   ]
  },
  {
   "cell_type": "code",
   "execution_count": null,
   "id": "58ce0f06-c1b8-4657-8a34-d47a3df46e92",
   "metadata": {},
   "outputs": [],
   "source": []
  },
  {
   "cell_type": "code",
   "execution_count": 3,
   "id": "00a78511-e29a-4357-be66-869982bae819",
   "metadata": {},
   "outputs": [],
   "source": [
    "for coin in coin_types:\n",
    "    charge += n // coin\n",
    "    n %= coin"
   ]
  },
  {
   "cell_type": "code",
   "execution_count": 4,
   "id": "a0002703-ec04-4384-bd87-7ec10e03f0a4",
   "metadata": {},
   "outputs": [
    {
     "name": "stdout",
     "output_type": "stream",
     "text": [
      "6\n"
     ]
    }
   ],
   "source": [
    "print(charge)"
   ]
  },
  {
   "cell_type": "code",
   "execution_count": null,
   "id": "920aa2c6-56e5-44b5-9340-be434bff7148",
   "metadata": {},
   "outputs": [],
   "source": []
  }
 ],
 "metadata": {
  "kernelspec": {
   "display_name": "Python 3 (ipykernel)",
   "language": "python",
   "name": "python3"
  },
  "language_info": {
   "codemirror_mode": {
    "name": "ipython",
    "version": 3
   },
   "file_extension": ".py",
   "mimetype": "text/x-python",
   "name": "python",
   "nbconvert_exporter": "python",
   "pygments_lexer": "ipython3",
   "version": "3.10.5"
  },
  "widgets": {
   "application/vnd.jupyter.widget-state+json": {
    "state": {},
    "version_major": 2,
    "version_minor": 0
   }
  }
 },
 "nbformat": 4,
 "nbformat_minor": 5
}
