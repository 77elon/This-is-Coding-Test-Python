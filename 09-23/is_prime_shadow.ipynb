{
 "cells": [
  {
   "cell_type": "code",
   "execution_count": 1,
   "id": "53c318e8-ff7f-45b5-9746-2242bfd98c8c",
   "metadata": {},
   "outputs": [],
   "source": [
    "from math import sqrt"
   ]
  },
  {
   "cell_type": "code",
   "execution_count": null,
   "id": "04176721-385c-4655-b54d-a186d780ef90",
   "metadata": {},
   "outputs": [],
   "source": []
  },
  {
   "cell_type": "code",
   "execution_count": null,
   "id": "3acc1465-4c2b-4c95-b16a-0f6396041887",
   "metadata": {},
   "outputs": [],
   "source": [
    "m, n = map(int, input().split())"
   ]
  },
  {
   "cell_type": "code",
   "execution_count": null,
   "id": "a03f9623-bbfd-4542-be5f-538bba51dd26",
   "metadata": {},
   "outputs": [],
   "source": [
    "ary = [True for i in range(n+1)]"
   ]
  },
  {
   "cell_type": "code",
   "execution_count": null,
   "id": "4594da8d-7340-4e71-8e1d-4f39fcef7db8",
   "metadata": {},
   "outputs": [],
   "source": [
    "ary[1] = 0"
   ]
  },
  {
   "cell_type": "code",
   "execution_count": null,
   "id": "f03b9036-02a5-4e2c-b297-2d74be748bae",
   "metadata": {},
   "outputs": [],
   "source": [
    "for i in range(2, int(sqrt(n)+1)):\n",
    "    if ary[i]:\n",
    "        multiplyer = 2\n",
    "        while i * multiplyer <= n:\n",
    "            ary[i * multiplyer] = False\n",
    "            multiplyer += 1"
   ]
  },
  {
   "cell_type": "code",
   "execution_count": null,
   "id": "b7907383-2539-4cb4-894e-7c35daedc5a0",
   "metadata": {},
   "outputs": [],
   "source": [
    "for i in range(m, n):\n",
    "    if ary[i]:\n",
    "        print(i, ' ')"
   ]
  },
  {
   "cell_type": "code",
   "execution_count": null,
   "id": "cbd1ad9c-9a49-48a2-a43a-c4b96c886029",
   "metadata": {},
   "outputs": [],
   "source": []
  }
 ],
 "metadata": {
  "kernelspec": {
   "display_name": "Python 3 (ipykernel)",
   "language": "python",
   "name": "python3"
  },
  "language_info": {
   "codemirror_mode": {
    "name": "ipython",
    "version": 3
   },
   "file_extension": ".py",
   "mimetype": "text/x-python",
   "name": "python",
   "nbconvert_exporter": "python",
   "pygments_lexer": "ipython3",
   "version": "3.10.5"
  },
  "widgets": {
   "application/vnd.jupyter.widget-state+json": {
    "state": {},
    "version_major": 2,
    "version_minor": 0
   }
  }
 },
 "nbformat": 4,
 "nbformat_minor": 5
}
