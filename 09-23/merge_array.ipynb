{
 "cells": [
  {
   "cell_type": "code",
   "execution_count": 1,
   "id": "0fb2ef62-b143-4503-a9db-297e6a0f606e",
   "metadata": {},
   "outputs": [],
   "source": [
    "# each array length declare\n",
    "n, m = 3, 4"
   ]
  },
  {
   "cell_type": "code",
   "execution_count": 2,
   "id": "26deb763-701f-44b2-b134-0027a712347f",
   "metadata": {},
   "outputs": [],
   "source": [
    "a = [1, 3, 5]"
   ]
  },
  {
   "cell_type": "code",
   "execution_count": 3,
   "id": "68325e47-0037-44e0-9ef4-d95b9529cd0a",
   "metadata": {},
   "outputs": [],
   "source": [
    "b = [2, 4, 6, 8]"
   ]
  },
  {
   "cell_type": "code",
   "execution_count": null,
   "id": "b716bb23-94db-4d20-8fe5-475eda00ee4b",
   "metadata": {},
   "outputs": [],
   "source": []
  },
  {
   "cell_type": "code",
   "execution_count": 4,
   "id": "2e2fff4e-50d4-4489-86c9-5e742d90bd47",
   "metadata": {},
   "outputs": [],
   "source": [
    "# 0 array initialized\n",
    "result = [0] * (n + m)"
   ]
  },
  {
   "cell_type": "code",
   "execution_count": 5,
   "id": "e4cb53ce-5336-4efa-9b95-efd949f64876",
   "metadata": {},
   "outputs": [],
   "source": [
    "i = 0\n",
    "j = 0\n",
    "k = 0"
   ]
  },
  {
   "cell_type": "code",
   "execution_count": null,
   "id": "68254cfb-8fdf-4261-b6f9-7eefabfb3f9d",
   "metadata": {},
   "outputs": [],
   "source": []
  },
  {
   "cell_type": "code",
   "execution_count": 6,
   "id": "d2558c9c-b12a-4546-ad21-9f4d993615ae",
   "metadata": {},
   "outputs": [],
   "source": [
    "while i < n or j < m:\n",
    "    if j >= m or (i < n and a[i] <= b[j]):\n",
    "        result[k] = a[i]\n",
    "        i += 1\n",
    "    else:\n",
    "        result[k] = b[j]\n",
    "        j += 1\n",
    "    k += 1\n",
    "    "
   ]
  },
  {
   "cell_type": "code",
   "execution_count": 7,
   "id": "4e9bce32-b784-4c4f-8a22-4bc4ab212f7c",
   "metadata": {},
   "outputs": [
    {
     "name": "stdout",
     "output_type": "stream",
     "text": [
      "1  \n",
      "2  \n",
      "3  \n",
      "4  \n",
      "5  \n",
      "6  \n",
      "8  \n"
     ]
    }
   ],
   "source": [
    "for i in result:\n",
    "    print(i, ' ')"
   ]
  },
  {
   "cell_type": "code",
   "execution_count": null,
   "id": "dd7de1f5-3f51-4cf7-9897-fe5b6ffe6121",
   "metadata": {},
   "outputs": [],
   "source": []
  }
 ],
 "metadata": {
  "kernelspec": {
   "display_name": "Python 3 (ipykernel)",
   "language": "python",
   "name": "python3"
  },
  "language_info": {
   "codemirror_mode": {
    "name": "ipython",
    "version": 3
   },
   "file_extension": ".py",
   "mimetype": "text/x-python",
   "name": "python",
   "nbconvert_exporter": "python",
   "pygments_lexer": "ipython3",
   "version": "3.10.5"
  },
  "widgets": {
   "application/vnd.jupyter.widget-state+json": {
    "state": {},
    "version_major": 2,
    "version_minor": 0
   }
  }
 },
 "nbformat": 4,
 "nbformat_minor": 5
}
