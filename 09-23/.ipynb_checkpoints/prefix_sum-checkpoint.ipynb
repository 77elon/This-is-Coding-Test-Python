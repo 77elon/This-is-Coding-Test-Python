{
 "cells": [
  {
   "cell_type": "code",
   "execution_count": 1,
   "id": "90e812d2-8c5a-4d86-8f4a-0c866b69b681",
   "metadata": {},
   "outputs": [],
   "source": [
    "n = 5"
   ]
  },
  {
   "cell_type": "code",
   "execution_count": 2,
   "id": "bf2bdf4f-151f-4116-b307-b292b0e23c46",
   "metadata": {},
   "outputs": [],
   "source": [
    "# 항상 수열 데이터가 필요하다.\n",
    "input_data = [20, 10, 30, 50, 40]"
   ]
  },
  {
   "cell_type": "code",
   "execution_count": 3,
   "id": "195511ab-75fc-4983-9656-3f27cb00158e",
   "metadata": {},
   "outputs": [],
   "source": [
    "#data = sorted(input_data)\n",
    "#print(data)"
   ]
  },
  {
   "cell_type": "code",
   "execution_count": 4,
   "id": "cb643849-b9b2-4a5c-95e1-05e95c845021",
   "metadata": {},
   "outputs": [],
   "source": [
    "import heapq\n",
    "\n",
    "tmp = []\n",
    "data = []\n",
    "for num in input_data:\n",
    "    heapq.heappush(tmp, num)\n",
    "for num in range(len(tmp)):\n",
    "    data.append(heapq.heappop(tmp))\n",
    "\n",
    "#print(data)"
   ]
  },
  {
   "cell_type": "code",
   "execution_count": 5,
   "id": "f2c89870-5e10-4845-a1ae-a763c7c9b49b",
   "metadata": {},
   "outputs": [],
   "source": [
    "# for prefix_sum\n",
    "\n",
    "sum_value = 0\n",
    "sum_ary = [0]"
   ]
  },
  {
   "cell_type": "code",
   "execution_count": 6,
   "id": "07adef2d-bdb7-4a12-8b54-7e097ed86a7e",
   "metadata": {},
   "outputs": [],
   "source": [
    "for i in data:\n",
    "    sum_value += i\n",
    "    sum_ary.append(sum_value)"
   ]
  },
  {
   "cell_type": "code",
   "execution_count": 7,
   "id": "1e314964-0747-42ea-9685-66dfe9836430",
   "metadata": {},
   "outputs": [],
   "source": [
    "def prefix_sum(left, right): return sum_ary[right] - sum_ary[0 if left < 1 else left - 1]"
   ]
  },
  {
   "cell_type": "code",
   "execution_count": 8,
   "id": "7aac4446-b4d9-4f9d-bbfa-8e1fcb05c917",
   "metadata": {},
   "outputs": [],
   "source": [
    "left = 3\n",
    "right = 4"
   ]
  },
  {
   "cell_type": "code",
   "execution_count": 9,
   "id": "52497127-7a6e-4da9-ba6b-4024c7c91e1a",
   "metadata": {},
   "outputs": [
    {
     "name": "stdout",
     "output_type": "stream",
     "text": [
      "70\n"
     ]
    }
   ],
   "source": [
    "print(prefix_sum(left, right))"
   ]
  },
  {
   "cell_type": "code",
   "execution_count": null,
   "id": "2eebb073-c7b4-473d-b4eb-f888dbdb289d",
   "metadata": {},
   "outputs": [],
   "source": []
  }
 ],
 "metadata": {
  "kernelspec": {
   "display_name": "Python 3 (ipykernel)",
   "language": "python",
   "name": "python3"
  },
  "language_info": {
   "codemirror_mode": {
    "name": "ipython",
    "version": 3
   },
   "file_extension": ".py",
   "mimetype": "text/x-python",
   "name": "python",
   "nbconvert_exporter": "python",
   "pygments_lexer": "ipython3",
   "version": "3.10.5"
  },
  "widgets": {
   "application/vnd.jupyter.widget-state+json": {
    "state": {},
    "version_major": 2,
    "version_minor": 0
   }
  }
 },
 "nbformat": 4,
 "nbformat_minor": 5
}
