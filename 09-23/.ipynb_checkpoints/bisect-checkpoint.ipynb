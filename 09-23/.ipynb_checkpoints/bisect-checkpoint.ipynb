{
 "cells": [
  {
   "cell_type": "code",
   "execution_count": 1,
   "id": "55e02cf6-6ba3-4a57-80ac-2f516d5df46b",
   "metadata": {},
   "outputs": [],
   "source": [
    "from bisect import bisect_left, bisect_right"
   ]
  },
  {
   "cell_type": "code",
   "execution_count": null,
   "id": "d03644d4-6ac4-421e-8e6d-0cf903c59f6e",
   "metadata": {},
   "outputs": [],
   "source": []
  },
  {
   "cell_type": "code",
   "execution_count": 2,
   "id": "868cc6b2-e8fc-46b8-b79a-547af4bfe8fe",
   "metadata": {},
   "outputs": [],
   "source": [
    "a = [1, 2, 4, 4, 8]\n",
    "x = 4"
   ]
  },
  {
   "cell_type": "code",
   "execution_count": null,
   "id": "b0a9cf2e-a479-4720-bb64-029ed9dbeaf2",
   "metadata": {},
   "outputs": [],
   "source": []
  },
  {
   "cell_type": "code",
   "execution_count": 3,
   "id": "06549a1e-b688-434c-9f79-14d8f29b9736",
   "metadata": {},
   "outputs": [
    {
     "name": "stdout",
     "output_type": "stream",
     "text": [
      "2\n",
      "4\n"
     ]
    }
   ],
   "source": [
    "# 정렬된 데이터에서 특정 데이터 왼쪽(빠른 순서), 오른쪽(상대적 느린 순서)의 인덱스를 반환하는 함수.\n",
    "# 데이터를 반환하지 않는다. 그리고 중복 데이터까지 생각해서 반환해준다.\n",
    "\n",
    "print(bisect_left(a, x))\n",
    "print(bisect_right(a, x))"
   ]
  },
  {
   "cell_type": "code",
   "execution_count": null,
   "id": "8f029c6e-1f86-42ae-868f-a14ce0228266",
   "metadata": {},
   "outputs": [],
   "source": []
  }
 ],
 "metadata": {
  "kernelspec": {
   "display_name": "Python 3 (ipykernel)",
   "language": "python",
   "name": "python3"
  },
  "language_info": {
   "codemirror_mode": {
    "name": "ipython",
    "version": 3
   },
   "file_extension": ".py",
   "mimetype": "text/x-python",
   "name": "python",
   "nbconvert_exporter": "python",
   "pygments_lexer": "ipython3",
   "version": "3.10.5"
  },
  "widgets": {
   "application/vnd.jupyter.widget-state+json": {
    "state": {},
    "version_major": 2,
    "version_minor": 0
   }
  }
 },
 "nbformat": 4,
 "nbformat_minor": 5
}
