{
 "cells": [
  {
   "cell_type": "code",
   "execution_count": 1,
   "id": "f7686567-99d9-4a0a-993b-45285ec6b5c3",
   "metadata": {},
   "outputs": [],
   "source": [
    "from itertools import combinations"
   ]
  },
  {
   "cell_type": "code",
   "execution_count": null,
   "id": "1a6a3b66-1045-4dc4-b2d3-b9a7d647a83a",
   "metadata": {},
   "outputs": [],
   "source": []
  },
  {
   "cell_type": "code",
   "execution_count": 2,
   "id": "1c79a37d-4bc5-4c3b-a7de-e25e564e790d",
   "metadata": {},
   "outputs": [
    {
     "name": "stdin",
     "output_type": "stream",
     "text": [
      " 4 6\n"
     ]
    }
   ],
   "source": [
    "l, c = map(int, input().split())"
   ]
  },
  {
   "cell_type": "code",
   "execution_count": null,
   "id": "981fffb5-a306-4cb4-a028-3bb160c24612",
   "metadata": {},
   "outputs": [],
   "source": []
  },
  {
   "cell_type": "code",
   "execution_count": 3,
   "id": "1472f682-c237-40ee-a462-78807c6b3833",
   "metadata": {},
   "outputs": [
    {
     "name": "stdin",
     "output_type": "stream",
     "text": [
      " a t c i s w\n"
     ]
    }
   ],
   "source": [
    "alpha = input().split()"
   ]
  },
  {
   "cell_type": "code",
   "execution_count": 4,
   "id": "9f313294-90c7-4017-91e2-84142190b64e",
   "metadata": {},
   "outputs": [
    {
     "data": {
      "text/plain": [
       "['a', 'c', 'i', 's', 't', 'w']"
      ]
     },
     "execution_count": 4,
     "metadata": {},
     "output_type": "execute_result"
    }
   ],
   "source": [
    "sorted(alpha)"
   ]
  },
  {
   "cell_type": "code",
   "execution_count": null,
   "id": "919f1e2f-6dff-4ea3-9afe-c5b35391d9fc",
   "metadata": {},
   "outputs": [],
   "source": []
  },
  {
   "cell_type": "code",
   "execution_count": 5,
   "id": "200de8e2-1369-46c9-9de0-1395dc7bb0d2",
   "metadata": {},
   "outputs": [],
   "source": [
    "vowels = ['a', 'e', 'i', 'o', 'u']"
   ]
  },
  {
   "cell_type": "code",
   "execution_count": null,
   "id": "e14fee2a-a14a-4d69-96d8-3f2a13855714",
   "metadata": {},
   "outputs": [],
   "source": []
  },
  {
   "cell_type": "code",
   "execution_count": 7,
   "id": "43f0c4e9-17c2-444f-84df-961245fe42b4",
   "metadata": {},
   "outputs": [],
   "source": [
    "for pw in combinations(alpha, l):\n",
    "    count = 0\n",
    "    for i in pw:\n",
    "        if i in vowels:\n",
    "            count += 1\n",
    "    if count >= 1 and count <= l - 2:\n",
    "        print(''.join(pw))"
   ]
  },
  {
   "cell_type": "code",
   "execution_count": null,
   "id": "aee889d4-edee-4127-bef4-19a9bae2d71f",
   "metadata": {},
   "outputs": [],
   "source": []
  }
 ],
 "metadata": {
  "kernelspec": {
   "display_name": "Python 3 (ipykernel)",
   "language": "python",
   "name": "python3"
  },
  "language_info": {
   "codemirror_mode": {
    "name": "ipython",
    "version": 3
   },
   "file_extension": ".py",
   "mimetype": "text/x-python",
   "name": "python",
   "nbconvert_exporter": "python",
   "pygments_lexer": "ipython3",
   "version": "3.10.5"
  },
  "widgets": {
   "application/vnd.jupyter.widget-state+json": {
    "state": {},
    "version_major": 2,
    "version_minor": 0
   }
  }
 },
 "nbformat": 4,
 "nbformat_minor": 5
}
