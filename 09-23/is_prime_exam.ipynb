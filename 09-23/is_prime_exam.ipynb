{
 "cells": [
  {
   "cell_type": "code",
   "execution_count": 1,
   "id": "bb0a9ec4-c328-481e-b2e0-b53ff1259b17",
   "metadata": {},
   "outputs": [],
   "source": [
    "from math import sqrt"
   ]
  },
  {
   "cell_type": "code",
   "execution_count": null,
   "id": "24dc168f-9ab6-4180-81ed-229828128632",
   "metadata": {},
   "outputs": [],
   "source": []
  },
  {
   "cell_type": "code",
   "execution_count": 2,
   "id": "a327e1b3-7f87-476c-9a5b-9605f292f82a",
   "metadata": {},
   "outputs": [
    {
     "name": "stdin",
     "output_type": "stream",
     "text": [
      " 3 16\n"
     ]
    }
   ],
   "source": [
    "m, n = map(int, input().split())"
   ]
  },
  {
   "cell_type": "code",
   "execution_count": 3,
   "id": "9fc331ee-21f0-443c-b3b4-3fdbdb71edbc",
   "metadata": {},
   "outputs": [],
   "source": [
    "result = [True for i in range(n+1)]\n",
    "result[1] = 0"
   ]
  },
  {
   "cell_type": "code",
   "execution_count": 4,
   "id": "772ee254-fcb3-4244-b81e-6b1d26b95fc2",
   "metadata": {},
   "outputs": [],
   "source": [
    "for i in range(2, int(sqrt(n))+1):\n",
    "    if result[i]:\n",
    "        multiplyer = 2\n",
    "        while i * multiplyer <= n:\n",
    "            result[i * multiplyer] = False\n",
    "            multiplyer += 1"
   ]
  },
  {
   "cell_type": "code",
   "execution_count": 5,
   "id": "db28d640-4448-45eb-a773-c617a2888274",
   "metadata": {},
   "outputs": [
    {
     "name": "stdout",
     "output_type": "stream",
     "text": [
      "3\n",
      "5\n",
      "7\n",
      "11\n",
      "13\n"
     ]
    }
   ],
   "source": [
    "for i in range(m, n):\n",
    "    if result[i]:\n",
    "        print(i)"
   ]
  },
  {
   "cell_type": "code",
   "execution_count": null,
   "id": "17630d33-6329-4971-bdea-578f2d46b3c0",
   "metadata": {},
   "outputs": [],
   "source": []
  }
 ],
 "metadata": {
  "kernelspec": {
   "display_name": "Python 3 (ipykernel)",
   "language": "python",
   "name": "python3"
  },
  "language_info": {
   "codemirror_mode": {
    "name": "ipython",
    "version": 3
   },
   "file_extension": ".py",
   "mimetype": "text/x-python",
   "name": "python",
   "nbconvert_exporter": "python",
   "pygments_lexer": "ipython3",
   "version": "3.10.5"
  },
  "widgets": {
   "application/vnd.jupyter.widget-state+json": {
    "state": {},
    "version_major": 2,
    "version_minor": 0
   }
  }
 },
 "nbformat": 4,
 "nbformat_minor": 5
}
