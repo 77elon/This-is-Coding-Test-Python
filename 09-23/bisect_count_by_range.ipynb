{
 "cells": [
  {
   "cell_type": "code",
   "execution_count": 1,
   "id": "a6af3f87-0aa3-416a-9ec0-c0870dbcada4",
   "metadata": {},
   "outputs": [],
   "source": [
    "from bisect import bisect_left, bisect_right"
   ]
  },
  {
   "cell_type": "code",
   "execution_count": null,
   "id": "a6035609-9cb3-4778-9c19-a94bb34f95de",
   "metadata": {},
   "outputs": [],
   "source": []
  },
  {
   "cell_type": "code",
   "execution_count": 2,
   "id": "87bd583c-e558-4f12-a4a8-183a5ade3c5b",
   "metadata": {},
   "outputs": [],
   "source": [
    "# 빠른 원소의 왼쪽 오른쪽 인덱스를 반환하는 함수를 사용해, 특정 범위에 속하는 원소의 개수를 구해보자."
   ]
  },
  {
   "cell_type": "code",
   "execution_count": null,
   "id": "6b670511-5fcc-47b5-bf8d-f5a5b461334f",
   "metadata": {},
   "outputs": [],
   "source": []
  },
  {
   "cell_type": "code",
   "execution_count": 3,
   "id": "d30c7773-867c-4be1-8230-76487c231cc6",
   "metadata": {},
   "outputs": [],
   "source": [
    "# 결국 정렬된 데이터에서 특정 값을 기준으로 왼쪽, 오른쪽의 원소 인덱스를 얻는다.\n",
    "def count_by_range(a, left_value, right_value):\n",
    "    right_index = bisect_right(a, right_value)\n",
    "    left_index = bisect_left(a, left_value)\n",
    "    return right_index - left_index"
   ]
  },
  {
   "cell_type": "code",
   "execution_count": 4,
   "id": "8357c65c-68f9-4f11-a9d5-921dfcbe6ecb",
   "metadata": {},
   "outputs": [],
   "source": [
    "a = [1, 2, 3, 3, 3, 3, 4, 4, 8, 9]"
   ]
  },
  {
   "cell_type": "code",
   "execution_count": 5,
   "id": "546989a0-d2d7-4224-bddd-83265105fcba",
   "metadata": {},
   "outputs": [
    {
     "name": "stdout",
     "output_type": "stream",
     "text": [
      "2\n"
     ]
    }
   ],
   "source": [
    "# 값이 4 ~ 4인 인덱스 계산\n",
    "\n",
    "print(count_by_range(a, 4, 4))"
   ]
  },
  {
   "cell_type": "code",
   "execution_count": 6,
   "id": "b9c2bad7-a7f0-4d29-a815-f2c0e53f49b7",
   "metadata": {},
   "outputs": [
    {
     "name": "stdout",
     "output_type": "stream",
     "text": [
      "6\n"
     ]
    }
   ],
   "source": [
    "# 값이 -1 ~ 3인 인덱스 차 (범위) 계산\n",
    "\n",
    "print(count_by_range(a, -1, 3))"
   ]
  },
  {
   "cell_type": "code",
   "execution_count": null,
   "id": "4f7add78-e293-4269-862d-96c062b699e3",
   "metadata": {},
   "outputs": [],
   "source": []
  }
 ],
 "metadata": {
  "kernelspec": {
   "display_name": "Python 3 (ipykernel)",
   "language": "python",
   "name": "python3"
  },
  "language_info": {
   "codemirror_mode": {
    "name": "ipython",
    "version": 3
   },
   "file_extension": ".py",
   "mimetype": "text/x-python",
   "name": "python",
   "nbconvert_exporter": "python",
   "pygments_lexer": "ipython3",
   "version": "3.10.5"
  },
  "widgets": {
   "application/vnd.jupyter.widget-state+json": {
    "state": {},
    "version_major": 2,
    "version_minor": 0
   }
  }
 },
 "nbformat": 4,
 "nbformat_minor": 5
}
