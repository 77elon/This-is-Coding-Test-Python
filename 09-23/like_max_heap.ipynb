{
 "cells": [
  {
   "cell_type": "code",
   "execution_count": 1,
   "id": "445fa220-f618-4151-b633-823cdaef9326",
   "metadata": {},
   "outputs": [],
   "source": [
    "import heapq"
   ]
  },
  {
   "cell_type": "code",
   "execution_count": null,
   "id": "4ee2e0b5-749c-4e25-9020-02320d6c8e80",
   "metadata": {},
   "outputs": [],
   "source": []
  },
  {
   "cell_type": "code",
   "execution_count": 2,
   "id": "c666c375-b8dd-4994-9a63-fc08254e88f4",
   "metadata": {},
   "outputs": [],
   "source": [
    "# min heap의 함수와 매우 유사하다.\n",
    "# 결국 min heap의 특성인 가장 작은 값을 찾는다는 점에서 임시 데이터의 입력과 추출 시\n",
    "# 음수를 취해준다면, max heap과 유사하게 작동할 것이다.\n",
    "def heapsort(iterable):\n",
    "    tmp = []\n",
    "    result = []\n",
    "    \n",
    "    for value in iterable:\n",
    "        heapq.heappush(tmp, -value)\n",
    "        \n",
    "    for i in range(len(tmp)):\n",
    "        result.append(-heapq.heappop(tmp))\n",
    "    return result"
   ]
  },
  {
   "cell_type": "code",
   "execution_count": 3,
   "id": "bd71592a-cf01-4f9c-9202-401b64ef0a70",
   "metadata": {},
   "outputs": [
    {
     "name": "stdout",
     "output_type": "stream",
     "text": [
      "[9, 8, 7, 6, 5, 4, 3, 2, 1, 0]\n"
     ]
    }
   ],
   "source": [
    "result = heapsort([1,3,5,7,9,2,4,6,8,0])\n",
    "print(result)"
   ]
  },
  {
   "cell_type": "code",
   "execution_count": null,
   "id": "5eae3477-afb5-4b38-a942-beaf43686b25",
   "metadata": {},
   "outputs": [],
   "source": []
  }
 ],
 "metadata": {
  "kernelspec": {
   "display_name": "Python 3 (ipykernel)",
   "language": "python",
   "name": "python3"
  },
  "language_info": {
   "codemirror_mode": {
    "name": "ipython",
    "version": 3
   },
   "file_extension": ".py",
   "mimetype": "text/x-python",
   "name": "python",
   "nbconvert_exporter": "python",
   "pygments_lexer": "ipython3",
   "version": "3.10.5"
  },
  "widgets": {
   "application/vnd.jupyter.widget-state+json": {
    "state": {},
    "version_major": 2,
    "version_minor": 0
   }
  }
 },
 "nbformat": 4,
 "nbformat_minor": 5
}
