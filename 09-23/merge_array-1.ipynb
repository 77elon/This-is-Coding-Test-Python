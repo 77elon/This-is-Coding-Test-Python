{
 "cells": [
  {
   "cell_type": "code",
   "execution_count": 1,
   "id": "cf3739dc-1f6b-487c-9cff-1503992aacda",
   "metadata": {},
   "outputs": [],
   "source": [
    "n, m = 3, 4\n",
    "a = [1, 3, 5]\n",
    "b = [2, 4, 6, 8]"
   ]
  },
  {
   "cell_type": "code",
   "execution_count": null,
   "id": "faabe96b-cef7-4f90-a152-bd4ce1d630ac",
   "metadata": {},
   "outputs": [],
   "source": []
  },
  {
   "cell_type": "code",
   "execution_count": 2,
   "id": "05fa9cc5-e0d0-4285-a72a-fb9da4862f5b",
   "metadata": {},
   "outputs": [],
   "source": [
    "result = [0] * (n + m)\n",
    "i, j, k = 0, 0, 0"
   ]
  },
  {
   "cell_type": "code",
   "execution_count": null,
   "id": "e7b21a75-fe75-464a-96e6-e9c80528b779",
   "metadata": {},
   "outputs": [],
   "source": []
  },
  {
   "cell_type": "code",
   "execution_count": 3,
   "id": "e689351d-babe-48f3-97d0-9690d9b9ce85",
   "metadata": {},
   "outputs": [],
   "source": [
    "while i < n or j < m:\n",
    "    # 1번째 행렬의 모든 데이터가 도출되었거나, 2번째 행렬의 데이터가 더 작은 경우.\n",
    "    if i >= n or (j < m and a[i] >= b[j]):\n",
    "        result[k] = b[j]\n",
    "        j += 1\n",
    "    # 1번째 행렬 데이터가 더 작은 경우.\n",
    "    else:\n",
    "        result[k] = a[i]\n",
    "        i += 1\n",
    "    \n",
    "    # result ary index\n",
    "    k += 1\n"
   ]
  },
  {
   "cell_type": "code",
   "execution_count": 4,
   "id": "461162dc-f7cc-4dad-9f37-02632e97ae7d",
   "metadata": {},
   "outputs": [
    {
     "name": "stdout",
     "output_type": "stream",
     "text": [
      "1  \n",
      "2  \n",
      "3  \n",
      "4  \n",
      "5  \n",
      "6  \n",
      "8  \n"
     ]
    }
   ],
   "source": [
    "for i in result:\n",
    "    print(i, ' ')"
   ]
  },
  {
   "cell_type": "code",
   "execution_count": null,
   "id": "f7230f18-1c67-4823-88b8-9f0fc1204c67",
   "metadata": {},
   "outputs": [],
   "source": []
  }
 ],
 "metadata": {
  "kernelspec": {
   "display_name": "Python 3 (ipykernel)",
   "language": "python",
   "name": "python3"
  },
  "language_info": {
   "codemirror_mode": {
    "name": "ipython",
    "version": 3
   },
   "file_extension": ".py",
   "mimetype": "text/x-python",
   "name": "python",
   "nbconvert_exporter": "python",
   "pygments_lexer": "ipython3",
   "version": "3.10.5"
  },
  "widgets": {
   "application/vnd.jupyter.widget-state+json": {
    "state": {},
    "version_major": 2,
    "version_minor": 0
   }
  }
 },
 "nbformat": 4,
 "nbformat_minor": 5
}
