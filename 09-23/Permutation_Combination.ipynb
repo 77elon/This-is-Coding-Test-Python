{
 "cells": [
  {
   "cell_type": "code",
   "execution_count": 1,
   "id": "ea7f8395-e183-498a-b48a-2bb6edfe5971",
   "metadata": {},
   "outputs": [],
   "source": [
    "from itertools import permutations"
   ]
  },
  {
   "cell_type": "code",
   "execution_count": null,
   "id": "1af48997-c639-4f2b-85db-8719aa7b4c83",
   "metadata": {},
   "outputs": [],
   "source": []
  },
  {
   "cell_type": "code",
   "execution_count": 2,
   "id": "2e4e3e1b-50af-4d7c-8401-bf0c2063fbe2",
   "metadata": {},
   "outputs": [],
   "source": [
    "data = [1, 2]"
   ]
  },
  {
   "cell_type": "code",
   "execution_count": null,
   "id": "960649dd-aa87-48ec-9e13-057ca7387eeb",
   "metadata": {},
   "outputs": [],
   "source": []
  },
  {
   "cell_type": "code",
   "execution_count": 4,
   "id": "a9482bfb-30b1-4b5d-a59c-5898d33cf5c9",
   "metadata": {},
   "outputs": [
    {
     "name": "stdout",
     "output_type": "stream",
     "text": [
      "[1, 2]\n",
      "[2, 1]\n"
     ]
    }
   ],
   "source": [
    "for x in permutations(data, 2):\n",
    "    print(list(x))"
   ]
  },
  {
   "cell_type": "code",
   "execution_count": null,
   "id": "9d8d857b-89a4-424e-96ab-3c17a90dd201",
   "metadata": {},
   "outputs": [],
   "source": []
  },
  {
   "cell_type": "code",
   "execution_count": null,
   "id": "fe63586f-4546-49e5-ae78-ef8a9533b91e",
   "metadata": {},
   "outputs": [],
   "source": []
  },
  {
   "cell_type": "code",
   "execution_count": 5,
   "id": "4cb5cbed-a2af-4dde-a3a6-99c63a6c0f3a",
   "metadata": {},
   "outputs": [],
   "source": [
    "from itertools import combinations"
   ]
  },
  {
   "cell_type": "code",
   "execution_count": null,
   "id": "0655cbae-34a5-4671-92a7-a45a3292c738",
   "metadata": {},
   "outputs": [],
   "source": []
  },
  {
   "cell_type": "code",
   "execution_count": 6,
   "id": "bb5b82bf-ab02-4a60-acd9-bd9ce1477751",
   "metadata": {},
   "outputs": [],
   "source": [
    "data = [1, 2, 3]"
   ]
  },
  {
   "cell_type": "code",
   "execution_count": null,
   "id": "c43143a8-a121-4a4b-826d-22528983a417",
   "metadata": {},
   "outputs": [],
   "source": []
  },
  {
   "cell_type": "code",
   "execution_count": 7,
   "id": "ed850ddd-ed50-4664-ac1d-12c335955e22",
   "metadata": {},
   "outputs": [
    {
     "name": "stdout",
     "output_type": "stream",
     "text": [
      "[1, 2]  \n",
      "[1, 3]  \n",
      "[2, 3]  \n"
     ]
    }
   ],
   "source": [
    "for x in combinations(data, 2):\n",
    "    print(list(x), ' ')"
   ]
  },
  {
   "cell_type": "code",
   "execution_count": null,
   "id": "13acbf75-a5e2-45e8-a42f-390a28230017",
   "metadata": {},
   "outputs": [],
   "source": []
  }
 ],
 "metadata": {
  "kernelspec": {
   "display_name": "Python 3 (ipykernel)",
   "language": "python",
   "name": "python3"
  },
  "language_info": {
   "codemirror_mode": {
    "name": "ipython",
    "version": 3
   },
   "file_extension": ".py",
   "mimetype": "text/x-python",
   "name": "python",
   "nbconvert_exporter": "python",
   "pygments_lexer": "ipython3",
   "version": "3.10.5"
  },
  "widgets": {
   "application/vnd.jupyter.widget-state+json": {
    "state": {},
    "version_major": 2,
    "version_minor": 0
   }
  }
 },
 "nbformat": 4,
 "nbformat_minor": 5
}
