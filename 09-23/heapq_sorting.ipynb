{
 "cells": [
  {
   "cell_type": "code",
   "execution_count": 1,
   "id": "0a0a6ae4-a846-4129-ab2a-30c132b31baf",
   "metadata": {},
   "outputs": [],
   "source": [
    "import heapq"
   ]
  },
  {
   "cell_type": "code",
   "execution_count": null,
   "id": "69705c96-78f1-4f4f-b004-94c33da25c05",
   "metadata": {},
   "outputs": [],
   "source": []
  },
  {
   "cell_type": "code",
   "execution_count": 2,
   "id": "531d6360-2124-4b6f-b535-4132f7fb6f97",
   "metadata": {},
   "outputs": [],
   "source": [
    "# min heap sorting\n",
    "\n",
    "def heapsort(iterable):\n",
    "    tmp = []\n",
    "    result = []\n",
    "    \n",
    "    for value in iterable:\n",
    "        # 힙에 삽입된 모든 원소를 차례대로 꺼내어 담기. value -> tmp (heap)\n",
    "        heapq.heappush(tmp, value)\n",
    "    \n",
    "    # tmp (heap) -> result (list)\n",
    "    for i in range(len(tmp)):\n",
    "        result.append(heapq.heappop(tmp))\n",
    "    return result"
   ]
  },
  {
   "cell_type": "code",
   "execution_count": 3,
   "id": "b8e057df-3d76-448f-8de7-6678646ebce7",
   "metadata": {},
   "outputs": [
    {
     "name": "stdout",
     "output_type": "stream",
     "text": [
      "[0, 1, 2, 3, 4, 5, 6, 7, 8, 9]\n"
     ]
    }
   ],
   "source": [
    "result = heapsort([1, 3, 5, 7, 9, 2, 4, 6, 8, 0])\n",
    "print(result)"
   ]
  },
  {
   "cell_type": "code",
   "execution_count": null,
   "id": "f4d1b3d6-25b4-48fc-aae8-4bc61f8c7ab9",
   "metadata": {},
   "outputs": [],
   "source": []
  }
 ],
 "metadata": {
  "kernelspec": {
   "display_name": "Python 3 (ipykernel)",
   "language": "python",
   "name": "python3"
  },
  "language_info": {
   "codemirror_mode": {
    "name": "ipython",
    "version": 3
   },
   "file_extension": ".py",
   "mimetype": "text/x-python",
   "name": "python",
   "nbconvert_exporter": "python",
   "pygments_lexer": "ipython3",
   "version": "3.10.5"
  },
  "widgets": {
   "application/vnd.jupyter.widget-state+json": {
    "state": {},
    "version_major": 2,
    "version_minor": 0
   }
  }
 },
 "nbformat": 4,
 "nbformat_minor": 5
}
