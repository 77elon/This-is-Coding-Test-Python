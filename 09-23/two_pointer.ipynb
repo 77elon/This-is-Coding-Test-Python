{
 "cells": [
  {
   "cell_type": "code",
   "execution_count": 1,
   "id": "2fc20781-a12d-4f3e-9779-da2f2df9d139",
   "metadata": {},
   "outputs": [],
   "source": [
    "length = 5\n",
    "find = 5\n",
    "\n",
    "data = [1, 2, 3, 2, 5]"
   ]
  },
  {
   "cell_type": "code",
   "execution_count": null,
   "id": "30fde161-3cf9-4bf2-ac1f-c33a07999d4a",
   "metadata": {},
   "outputs": [],
   "source": []
  },
  {
   "cell_type": "code",
   "execution_count": 2,
   "id": "69a1138f-a3ab-41de-89a1-c9a6e35734a2",
   "metadata": {},
   "outputs": [],
   "source": [
    "count = 0\n",
    "range_sum = 0\n",
    "end = 0"
   ]
  },
  {
   "cell_type": "code",
   "execution_count": null,
   "id": "af8c221b-22b1-4829-8861-1528826c4cd1",
   "metadata": {},
   "outputs": [],
   "source": []
  },
  {
   "cell_type": "code",
   "execution_count": 3,
   "id": "2f5d8863-183d-4602-880c-b197e48ab7c5",
   "metadata": {},
   "outputs": [],
   "source": [
    "# range_sum이 destination보다 작다면, end를 움직인다.\n",
    "# 반대의 경우 start를 움직인다.\n",
    "# 그리고 조건에 맞춰 end가 움직일 때 data[end]를 더해준다.\n",
    "# 반대의 경우에는 data[start]를 빼준다.\n",
    "\n",
    "for start in range(length):\n",
    "    while range_sum < find and end < length:\n",
    "        range_sum += data[end]\n",
    "        end += 1\n",
    "    \n",
    "    if range_sum == find:\n",
    "        count += 1\n",
    "    range_sum -= data[start]\n",
    "    "
   ]
  },
  {
   "cell_type": "code",
   "execution_count": 4,
   "id": "559cda79-49df-43eb-8f5d-e0dd09aaf448",
   "metadata": {},
   "outputs": [
    {
     "name": "stdout",
     "output_type": "stream",
     "text": [
      "3\n"
     ]
    }
   ],
   "source": [
    "print(count)"
   ]
  },
  {
   "cell_type": "code",
   "execution_count": null,
   "id": "fc2557da-160a-4e1c-9896-173a9e09efd8",
   "metadata": {},
   "outputs": [],
   "source": []
  }
 ],
 "metadata": {
  "kernelspec": {
   "display_name": "Python 3 (ipykernel)",
   "language": "python",
   "name": "python3"
  },
  "language_info": {
   "codemirror_mode": {
    "name": "ipython",
    "version": 3
   },
   "file_extension": ".py",
   "mimetype": "text/x-python",
   "name": "python",
   "nbconvert_exporter": "python",
   "pygments_lexer": "ipython3",
   "version": "3.10.5"
  },
  "widgets": {
   "application/vnd.jupyter.widget-state+json": {
    "state": {},
    "version_major": 2,
    "version_minor": 0
   }
  }
 },
 "nbformat": 4,
 "nbformat_minor": 5
}
